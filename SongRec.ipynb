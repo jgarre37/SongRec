{
 "cells": [
  {
   "cell_type": "code",
   "execution_count": null,
   "id": "a88a164e",
   "metadata": {},
   "outputs": [],
   "source": [
    "import streamlit as st\n",
    "import spotipy\n",
    "from spotipy.oauth2 import SpotifyClientCredentials\n",
    "import asyncio\n",
    "\n",
    "# Set up Spotify credentials\n",
    "client_id = \"19777ac6a5924c0aa8bc8526c9c53f47\" \n",
    "client_secret = \"cd1fc2f482f046a6a8a8937b1382e5ec\"\n",
    "redirect_uri = \"http://localhost:3001\"\n",
    "\n",
    "sp = spotipy.Spotify(auth_manager=SpotifyClientCredentials(client_id=client_id, client_secret=client_secret))\n",
    "\n",
    "async def get_recommendations(track_names):\n",
    "    track_uris = []\n",
    "    \n",
    "    # Get track URIs for each track name\n",
    "    for track_name in track_names:\n",
    "        results = sp.search(q=track_name, type='track')\n",
    "        if results['tracks']['items']:\n",
    "            track_uri = results['tracks']['items'][0]['uri']\n",
    "            track_uris.append(track_uri)\n",
    "\n",
    "    # Get recommended tracks\n",
    "    if track_uris:\n",
    "        recommendations = sp.recommendations(seed_tracks=track_uris)['tracks']\n",
    "        return recommendations\n",
    "    else:\n",
    "        return []\n",
    "\n",
    "def main():\n",
    "    st.title(\"Music Recommendation System\")\n",
    "    track_names = st.text_input(\"Enter song names separated by commas (include artist for best result):\")\n",
    "\n",
    "    if track_names:\n",
    "        track_names_list = [name.strip() for name in track_names.split(',')]\n",
    "        \n",
    "        # Explicitly set the event loop\n",
    "        loop = asyncio.new_event_loop()\n",
    "        asyncio.set_event_loop(loop)\n",
    "\n",
    "        # Use the set event loop\n",
    "        loop = asyncio.get_event_loop()\n",
    "\n",
    "        # Fetch recommendations based on input type\n",
    "        recommendations = loop.run_until_complete(get_recommendations(track_names_list))\n",
    "\n",
    "        st.write(\"Recommended songs:\")\n",
    "        for i, track in enumerate(recommendations):\n",
    "            st.write(f\"{i + 1}. {track['name']} - {track['artists'][0]['name']}\")\n",
    "            st.image(track['album']['images'][0]['url'])\n",
    "\n",
    "if __name__ == '__main__':\n",
    "    main()\n"
   ]
  }
 ],
 "metadata": {
  "kernelspec": {
   "display_name": "Python 3 (ipykernel)",
   "language": "python",
   "name": "python3"
  },
  "language_info": {
   "codemirror_mode": {
    "name": "ipython",
    "version": 3
   },
   "file_extension": ".py",
   "mimetype": "text/x-python",
   "name": "python",
   "nbconvert_exporter": "python",
   "pygments_lexer": "ipython3",
   "version": "3.11.1"
  }
 },
 "nbformat": 4,
 "nbformat_minor": 5
}
